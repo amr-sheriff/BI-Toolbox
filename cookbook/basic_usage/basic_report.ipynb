{
 "cells": [
  {
   "cell_type": "code",
   "id": "initial_id",
   "metadata": {
    "collapsed": true,
    "ExecuteTime": {
     "end_time": "2024-09-09T13:37:56.180041Z",
     "start_time": "2024-09-09T13:37:55.837722Z"
    }
   },
   "source": [
    "from bi_toolbox.ReportingTools.GenericReportProcessor import GenericReportProcessor\n",
    "from bi_toolbox.CredManager.CredManager import CredManager\n",
    "import pandas as pd"
   ],
   "outputs": [],
   "execution_count": 1
  },
  {
   "metadata": {
    "ExecuteTime": {
     "end_time": "2024-09-09T10:48:00.873785Z",
     "start_time": "2024-09-09T10:48:00.871746Z"
    }
   },
   "cell_type": "code",
   "source": [
    "# Initialize the GenericReportProcessor with default logger settings\n",
    "processor = GenericReportProcessor()\n",
    "\n",
    "# # If custom logger settings are required\n",
    "custom_processor = GenericReportProcessor(log_file_path='logs/custom.log', log_level='DEBUG', max_log_size=5000000)"
   ],
   "id": "e2dab73bf7d8ff70",
   "outputs": [],
   "execution_count": 4
  },
  {
   "metadata": {
    "ExecuteTime": {
     "end_time": "2024-09-09T10:48:45.858603Z",
     "start_time": "2024-09-09T10:48:45.853952Z"
    }
   },
   "cell_type": "code",
   "source": [
    "# Log some messages\n",
    "processor.logger.info(\"This is an info message.\")\n",
    "custom_processor.logger.debug(\"This is a debug message.\")"
   ],
   "id": "d8f5c26eb9217e7d",
   "outputs": [
    {
     "name": "stderr",
     "output_type": "stream",
     "text": [
      "bi_toolbox.ReportingTools.GenericReportProcessor - INFO - This is an info message.\n",
      "bi_toolbox.ReportingTools.GenericReportProcessor - DEBUG - This is a debug message.\n"
     ]
    }
   ],
   "execution_count": 7
  },
  {
   "metadata": {
    "ExecuteTime": {
     "end_time": "2024-09-09T10:57:12.666655Z",
     "start_time": "2024-09-09T10:57:12.662173Z"
    }
   },
   "cell_type": "code",
   "source": [
    "# Change the logger path\n",
    "processor.set_logger_path('logs/new_log.log')\n",
    "processor.logger.info(\"This is an info message.\")"
   ],
   "id": "b396c620907b164",
   "outputs": [
    {
     "name": "stderr",
     "output_type": "stream",
     "text": [
      "bi_toolbox.ReportingTools.GenericReportProcessor - INFO - Logger file path changed to logs/new_log.log\n"
     ]
    }
   ],
   "execution_count": 8
  },
  {
   "metadata": {
    "ExecuteTime": {
     "end_time": "2024-09-09T13:27:07.611997Z",
     "start_time": "2024-09-09T13:27:07.601501Z"
    }
   },
   "cell_type": "code",
   "source": [
    "# Lazy initialization\n",
    "lazy_processor = GenericReportProcessor(log_level='DEBUG').factory(services=['s3', 'slack'])\n",
    "\n",
    "# Eager initialization\n",
    "eager_processor = GenericReportProcessor.factory(services=['s3', 'slack'], eager=True)"
   ],
   "id": "d15025172129e90",
   "outputs": [
    {
     "name": "stderr",
     "output_type": "stream",
     "text": [
      "bi_toolbox.ReportingTools.GenericReportProcessor - INFO - Setting up the environment for the required services.\n",
      "bi_toolbox.ReportingTools.GenericReportProcessor - WARNING - S3 is not properly configured. AWS credentials are missing.\n",
      "bi_toolbox.ReportingTools.GenericReportProcessor - WARNING - Slack is not properly configured. SLACK_TOKEN is missing.\n",
      "bi_toolbox.ReportingTools.GenericReportProcessor - INFO - Environment setup complete. Services will be initialized lazily when accessed.\n",
      "bi_toolbox.ReportingTools.GenericReportProcessor - INFO - Eager initialization mode enabled. Initializing all services upfront.\n",
      "bi_toolbox.ReportingTools.GenericReportProcessor - DEBUG - Initializing S3 service.\n",
      "bi_toolbox.ReportingTools.GenericReportProcessor - WARNING - AWS S3 credentials missing. S3 data retrieval will be unavailable.\n",
      "bi_toolbox.ReportingTools.GenericReportProcessor - DEBUG - Initializing Slack client.\n",
      "bi_toolbox.ReportingTools.GenericReportProcessor - WARNING - Slack token not found. Slack notifications will be unavailable.\n",
      "bi_toolbox.ReportingTools.GenericReportProcessor - INFO - All services initialized eagerly.\n"
     ]
    }
   ],
   "execution_count": 7
  },
  {
   "metadata": {
    "ExecuteTime": {
     "end_time": "2024-09-09T13:39:01.038347Z",
     "start_time": "2024-09-09T13:39:01.035758Z"
    }
   },
   "cell_type": "code",
   "source": [
    "# Using Creds Manager\n",
    "creds = CredManager()\n",
    "slack_t = creds.get_slack_token()\n",
    "print(slack_t)"
   ],
   "id": "e17b5d1a7a23e14",
   "outputs": [
    {
     "name": "stdout",
     "output_type": "stream",
     "text": [
      "None\n"
     ]
    }
   ],
   "execution_count": 9
  },
  {
   "metadata": {},
   "cell_type": "code",
   "outputs": [],
   "execution_count": null,
   "source": [
    "# Retrieve data from S3\n",
    "df_s3 = processor.retrieve_data('s3', bucket_name='my-bucket', prefix='data/')\n",
    "\n",
    "# Retrieve data from a database\n",
    "df_db = processor.retrieve_data('database', query='SELECT * FROM my_table')\n",
    "\n",
    "# Retrieve data from a local CSV file\n",
    "df_local = processor.retrieve_data('local', file_path='data/my_data.csv')\n"
   ],
   "id": "4729b04168e3775c"
  },
  {
   "metadata": {},
   "cell_type": "code",
   "outputs": [],
   "execution_count": null,
   "source": [
    "def custom_processing(df):\n",
    "    # Example of custom processing logic\n",
    "    return df.head()\n",
    "\n",
    "# Create some mock DataFrames\n",
    "df1 = pd.DataFrame({'A': [1, 2, 3]})\n",
    "df2 = pd.DataFrame({'B': [4, 5, 6]})\n",
    "\n",
    "# Process data using custom processing functions\n",
    "processed_data = processor.process_data(\n",
    "    {'df1': df1, 'df2': df2},\n",
    "    {'df1': custom_processing, 'df2': custom_processing}\n",
    ")\n",
    "\n",
    "print(processed_data)\n"
   ],
   "id": "4d6a9422c3264db4"
  },
  {
   "metadata": {},
   "cell_type": "code",
   "outputs": [],
   "execution_count": null,
   "source": [
    "def combine_func(dfs):\n",
    "    # Example of combining two DataFrames\n",
    "    return pd.concat(dfs.values(), axis=1)\n",
    "\n",
    "# Combine processed DataFrames\n",
    "final_df = processor.combine_data(processed_data, combine_func)\n",
    "\n",
    "print(final_df)\n"
   ],
   "id": "35058803e8fe7883"
  },
  {
   "metadata": {},
   "cell_type": "code",
   "outputs": [],
   "execution_count": null,
   "source": [
    "# Export to CSV\n",
    "processor.export_data(final_df, 'csv', file_path='output/final_data.csv')\n",
    "\n",
    "# Export to Google Sheets\n",
    "processor.export_data(final_df, 'google_sheets', sheet_id='sheet-id', sheet_name='Sheet1', first_time=True)\n"
   ],
   "id": "ab803a2daad3a6"
  },
  {
   "metadata": {},
   "cell_type": "code",
   "outputs": [],
   "execution_count": null,
   "source": [
    "# Send a message to Slack\n",
    "processor.send_slack_notification('#general', \"Report has been successfully processed.\")\n"
   ],
   "id": "bcacebac9106b3d"
  }
 ],
 "metadata": {
  "kernelspec": {
   "display_name": "Python 3",
   "language": "python",
   "name": "python3"
  },
  "language_info": {
   "codemirror_mode": {
    "name": "ipython",
    "version": 2
   },
   "file_extension": ".py",
   "mimetype": "text/x-python",
   "name": "python",
   "nbconvert_exporter": "python",
   "pygments_lexer": "ipython2",
   "version": "2.7.6"
  }
 },
 "nbformat": 4,
 "nbformat_minor": 5
}
